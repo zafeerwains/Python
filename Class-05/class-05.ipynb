{
 "cells": [
  {
   "cell_type": "code",
   "execution_count": 1,
   "id": "90f3f450-aa72-4a8c-ac1b-c4e5c71cb389",
   "metadata": {},
   "outputs": [
    {
     "name": "stdout",
     "output_type": "stream",
     "text": [
      "['a', 'b', 'c', 'd', 'e', 'f', 'g', 'h', 'i']\n"
     ]
    }
   ],
   "source": [
    "chars : list[str] = list(\"abcdefghi\")\n",
    "print(chars)"
   ]
  },
  {
   "cell_type": "code",
   "execution_count": 8,
   "id": "0a1d0b32-e62c-48d7-9045-1fc75eba7010",
   "metadata": {},
   "outputs": [
    {
     "name": "stdout",
     "output_type": "stream",
     "text": [
      "aa\n",
      "a \n",
      "\n",
      "bb\n",
      "b \n",
      "\n",
      "cc\n",
      "c \n",
      "\n",
      "dd\n",
      "d \n",
      "\n",
      "ee\n",
      "e \n",
      "\n",
      "ff\n",
      "f \n",
      "\n",
      "gg\n",
      "g \n",
      "\n",
      "hh\n",
      "h \n",
      "\n",
      "ii\n",
      "i \n",
      "\n"
     ]
    }
   ],
   "source": [
    "chars = ['a', 'b', 'c', 'd', 'e', 'f', 'g', 'h', 'i']\n",
    "for char in chars:\n",
    "    print(char+char)\n",
    "    print(char,\"\\n\")"
   ]
  },
  {
   "cell_type": "code",
   "execution_count": null,
   "id": "6489fc0b-5cd9-49e4-856a-e3c4dfc2ccde",
   "metadata": {},
   "outputs": [],
   "source": []
  }
 ],
 "metadata": {
  "kernelspec": {
   "display_name": "Python 3 (ipykernel)",
   "language": "python",
   "name": "python3"
  },
  "language_info": {
   "codemirror_mode": {
    "name": "ipython",
    "version": 3
   },
   "file_extension": ".py",
   "mimetype": "text/x-python",
   "name": "python",
   "nbconvert_exporter": "python",
   "pygments_lexer": "ipython3",
   "version": "3.12.0"
  }
 },
 "nbformat": 4,
 "nbformat_minor": 5
}
